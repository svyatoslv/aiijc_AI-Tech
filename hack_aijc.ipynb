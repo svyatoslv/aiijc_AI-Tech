{
 "cells": [
  {
   "cell_type": "code",
   "execution_count": 13,
   "id": "3625175b-c250-4409-95d9-ffe1b65fad02",
   "metadata": {},
   "outputs": [],
   "source": [
    "#импортируем библиотеки\n",
    "import joblib\n",
    "import pandas as pd\n",
    "import numpy as np\n",
    "import lightgbm as lgb\n",
    "from sklearn.model_selection import train_test_split\n",
    "from sklearn.ensemble import VotingClassifier\n",
    "from catboost import CatBoostClassifier\n",
    "from sklearn.metrics import f1_score"
   ]
  },
  {
   "cell_type": "code",
   "execution_count": 18,
   "id": "bedc9f86-32bd-42fd-800b-a7815cb02444",
   "metadata": {},
   "outputs": [],
   "source": [
    "# загружаем файлы\n",
    "train = pd.read_csv('train_AIC.csv')\n",
    "test = pd.read_csv('test_AIC.csv')"
   ]
  },
  {
   "cell_type": "code",
   "execution_count": 19,
   "id": "04243e3d-0490-413c-874e-3df2419dc657",
   "metadata": {},
   "outputs": [],
   "source": [
    "#отсортированные по важности признаки\n",
    "film = ['is equal', 'Поставщик', 'Количество обработчиков',\n",
    "       'Количество изменений после согласований', 'Месяц2', 'Группа закупок',\n",
    "       'Количество позиций', 'Операционный менеджер', 'Согласование заказа',\n",
    "       'День недели 2', 'Группа материалов', 'Месяц3', 'Сумма', 'Дней между',\n",
    "       'Длительность', 'Материал', 'Месяц1', 'Изменение даты поставки 30',\n",
    "       'Сумма * Количество', 'До поставки', 'Завод', 'Количество',\n",
    "       'Месяц День недели 2', 'Категорийный менеджер', 'Вариант поставки',\n",
    "       'Закупочная организация', 'Балансовая единица',\n",
    "       'Изменение позиции заказа на закупку: изменение даты поставки на бумаге',\n",
    "       'Количество циклов согласования', 'is equal_3',\n",
    "       'Изменение позиции заказа на закупку: дата поставки', 'ЕИ',\n",
    "       'Дней между_', 'is equal_2']"
   ]
  },
  {
   "cell_type": "code",
   "execution_count": 20,
   "id": "f4d22daa-3d80-4abd-8cce-cc09a42caf52",
   "metadata": {},
   "outputs": [],
   "source": [
    "#преобразование тренировочного набора данных\n",
    "train['НРП'] = np.where(train['НРП'] > 0, 1, 0)\n",
    "train['ЕИ'] = np.where(train['ЕИ'] > 1, 1, 0)\n",
    "train['Количество обработчиков'] = (train['Количество обработчиков 7'] + train['Количество обработчиков 15'] + train['Количество обработчиков 30'])/3\n",
    "train['Дней между'] = (train['Дней между 0_1'] + train['Дней между 1_2'] + train['Дней между 2_3'] + train['Дней между 3_4'] + train['Дней между 4_5'] + train['Дней между 5_6']\n",
    "                       + train['Дней между 6_7'] + train['Дней между 7_8'])/8\n",
    "train['Согласование заказа'] = (train['Согласование заказа 1'] + train['Согласование заказа 2'] + train['Согласование заказа 3'])/3\n",
    "train['Изменение позиции заказа на закупку: дата поставки'] = np.where(train['Изменение позиции заказа на закупку: дата поставки'] > 0, 1, 0)\n",
    "train['Отмена полного деблокирования заказа на закупку'] = np.where(train['Отмена полного деблокирования заказа на закупку'] > 0, 1, 0)\n",
    "train['Изменение позиции заказа на закупку: изменение даты поставки на бумаге'] = np.where(train['Изменение позиции заказа на закупку: изменение даты поставки на бумаге'] > 0, 1, 0)\n",
    "train['is equal'] = train['До поставки'] == train['Длительность']\n",
    "train['Месяц День недели 2'] = train['Месяц2'] + train['День недели 2']\n",
    "train['Дней между_'] = (train['Дней между 0_1'] < 7) & (train['Дней между 1_2'] < 7) & (train['Дней между 2_3'] < 7) & (train['Дней между 3_4'] < 7)\n",
    "train['is equal_2'] = ((train['Изменение позиции заказа на закупку: дата поставки'] == train['Отмена полного деблокирования заказа на закупку']) & \n",
    "                  (train['Изменение позиции заказа на закупку: дата поставки'] == train['Изменение позиции заказа на закупку: изменение даты поставки на бумаге']) &\n",
    "                  (train['Отмена полного деблокирования заказа на закупку'] & train['Изменение позиции заказа на закупку: изменение даты поставки на бумаге']))\n",
    "train['Сумма * Количество'] = train['Сумма'] * train['Количество']\n",
    "train['is equal_3'] = ((train['Согласование заказа 1'] == train['Согласование заказа 2']) &  (train['Согласование заказа 1'] == train['Согласование заказа 3']) &\n",
    "                       (train['Согласование заказа 2'] & train['Согласование заказа 3']))"
   ]
  },
  {
   "cell_type": "code",
   "execution_count": 21,
   "id": "e99b15c2-55c8-488b-b040-faf1a088dae8",
   "metadata": {},
   "outputs": [],
   "source": [
    "#преобразуем тестовый датасет\n",
    "test['НРП'] = np.where(test['НРП'] > 0, 1, 0)\n",
    "test['ЕИ'] = np.where(test['ЕИ'] > 1, 1, 0)\n",
    "test['Количество обработчиков'] = (test['Количество обработчиков 7'] + test['Количество обработчиков 15'] + test['Количество обработчиков 30'])/3\n",
    "test['Дней между'] = (test['Дней между 0_1'] + test['Дней между 1_2'] + test['Дней между 2_3'] + test['Дней между 3_4'] + test['Дней между 4_5'] + test['Дней между 5_6']\n",
    "                       + test['Дней между 6_7'] + test['Дней между 7_8'])/8\n",
    "test['Согласование заказа'] = (test['Согласование заказа 1'] + test['Согласование заказа 2'] + test['Согласование заказа 3'])/3\n",
    "test['Изменение позиции заказа на закупку: дата поставки'] = np.where(test['Изменение позиции заказа на закупку: дата поставки'] > 0, 1, 0)\n",
    "test['Отмена полного деблокирования заказа на закупку'] = np.where(test['Отмена полного деблокирования заказа на закупку'] > 0, 1, 0)\n",
    "test['Изменение позиции заказа на закупку: изменение даты поставки на бумаге'] = np.where(test['Изменение позиции заказа на закупку: изменение даты поставки на бумаге'] > 0, 1, 0)\n",
    "test['is equal'] = test['До поставки'] == test['Длительность']\n",
    "test['Месяц День недели 2'] = test['Месяц2'] + test['День недели 2']\n",
    "test['Дней между_'] = (test['Дней между 0_1'] < 7) & (test['Дней между 1_2'] < 7) & (test['Дней между 2_3'] < 7) & (test['Дней между 3_4'] < 7)\n",
    "test['is equal_2'] = ((test['Изменение позиции заказа на закупку: дата поставки'] == test['Отмена полного деблокирования заказа на закупку']) & \n",
    "                  (test['Изменение позиции заказа на закупку: дата поставки'] == test['Изменение позиции заказа на закупку: изменение даты поставки на бумаге']) &\n",
    "                  (test['Отмена полного деблокирования заказа на закупку'] & test['Изменение позиции заказа на закупку: изменение даты поставки на бумаге']))\n",
    "test['Сумма * Количество'] = test['Сумма'] * test['Количество']\n",
    "test['is equal_3'] = ((test['Согласование заказа 1'] == test['Согласование заказа 2']) & (test['Согласование заказа 1'] == test['Согласование заказа 3']) &\n",
    "                  (test['Согласование заказа 2'] == test['Согласование заказа 3']))\n",
    "test = test[film[0:34]]"
   ]
  },
  {
   "cell_type": "code",
   "execution_count": 22,
   "id": "ca5837e5-90b2-4db5-a241-834fea30f988",
   "metadata": {},
   "outputs": [],
   "source": [
    "#разделение на тренировочную и валидационную выборку\n",
    "new_x = train[film[0:34]]\n",
    "new_y = train['y']\n",
    "\n",
    "TEST_SIZE = 0.01\n",
    "RANDOM_STATE = 42\n",
    "\n",
    "train_X, test_X, train_y, test_y = train_test_split(new_x.values, new_y.values, test_size=TEST_SIZE, random_state=RANDOM_STATE)"
   ]
  },
  {
   "cell_type": "code",
   "execution_count": 7,
   "id": "5f36ac94-66a8-4a10-a864-b60c27f4d959",
   "metadata": {},
   "outputs": [],
   "source": [
    "#инициализация LGBMClassifier модели \n",
    "lgb_par = {'n_estimators': 3500, 'max_depth': 25, 'num_leaves': 247,\n",
    "           'learning_rate': 0.07530361859735642, 'gamma': 5.757985966854834e-05,\n",
    "           'boosting_type': 'dart', 'feature_fraction': 0.944735811995595,\n",
    "           'bagging_fraction': 0.9772086347434312, 'bagging_freq': 7, 'min_child_samples': 1}\n",
    "\n",
    "lgb_model = lgb.LGBMClassifier(**lgb_par, objective = 'binary')\n",
    "lgb_model.fit(train_X, train_y)\n",
    "f1_score(test_y, lgb_model.predict(test_X), average='binary')"
   ]
  },
  {
   "cell_type": "code",
   "execution_count": 8,
   "id": "df57e563-7c37-42d6-bb17-80f958a49ce1",
   "metadata": {},
   "outputs": [],
   "source": [
    "#инициализация CatBoostClassifier модели\n",
    "parameters = {'iterations': 1000, 'learning_rate': 0.0885430382096274,\n",
    "                 'depth': 11, 'l2_leaf_reg': 8.5458685064206, 'bootstrap_type': 'Bayesian',\n",
    "                 'random_strength': 1.5118792232990612e-07, 'bagging_temperature': 0.19937820660466068,\n",
    "                 'od_type': 'IncToDec'}\n",
    "index_features = [1, 15, 23, 7, 20, 25, 5, 26, 31, 10, 24, 9, 16, 4, 11, 30, 27, 29]\n",
    "\n",
    "cat_model = CatBoostClassifier(**parameters, cat_features=index_features, verbose=250)\n",
    "cat_model.fit(train_X, train_y)\n",
    "f1_score(test_y, cat_model.predict(test_X), average='binary')"
   ]
  },
  {
   "cell_type": "code",
   "execution_count": 9,
   "id": "759af7bd-4699-4c5f-a2c6-9cbba7fbaed5",
   "metadata": {},
   "outputs": [],
   "source": [
    "#инициализация VotingClassifier модели\n",
    "voit_model = VotingClassifier(estimators=[('Cat', cat_model), ('lgb', lgb_model)], voting='soft')\n",
    "voit_model.fit(train_X, train_y)\n",
    "f1_score(test_y, voit_model.predict(test_X), average='binary')"
   ]
  },
  {
   "cell_type": "code",
   "execution_count": 11,
   "id": "9256880b-aa79-46fa-8d74-dd1cff3370e4",
   "metadata": {},
   "outputs": [
    {
     "name": "stdout",
     "output_type": "stream",
     "text": [
      "0:\tlearn: 0.5581080\ttotal: 889ms\tremaining: 14m 47s\n",
      "250:\tlearn: 0.1003395\ttotal: 2m 45s\tremaining: 8m 14s\n",
      "500:\tlearn: 0.0753274\ttotal: 5m 40s\tremaining: 5m 39s\n",
      "750:\tlearn: 0.0590218\ttotal: 8m 40s\tremaining: 2m 52s\n",
      "999:\tlearn: 0.0466730\ttotal: 11m 39s\tremaining: 0us\n",
      "[LightGBM] [Warning] Unknown parameter: gamma\n",
      "[LightGBM] [Warning] feature_fraction is set=0.944735811995595, colsample_bytree=1.0 will be ignored. Current value: feature_fraction=0.944735811995595\n",
      "[LightGBM] [Warning] bagging_fraction is set=0.9772086347434312, subsample=1.0 will be ignored. Current value: bagging_fraction=0.9772086347434312\n",
      "[LightGBM] [Warning] bagging_freq is set=7, subsample_freq=0 will be ignored. Current value: bagging_freq=7\n",
      "[LightGBM] [Warning] Unknown parameter: gamma\n",
      "[LightGBM] [Warning] feature_fraction is set=0.944735811995595, colsample_bytree=1.0 will be ignored. Current value: feature_fraction=0.944735811995595\n",
      "[LightGBM] [Warning] bagging_fraction is set=0.9772086347434312, subsample=1.0 will be ignored. Current value: bagging_fraction=0.9772086347434312\n",
      "[LightGBM] [Warning] bagging_freq is set=7, subsample_freq=0 will be ignored. Current value: bagging_freq=7\n",
      "[LightGBM] [Info] Number of positive: 32337, number of negative: 192663\n",
      "[LightGBM] [Warning] Auto-choosing row-wise multi-threading, the overhead of testing was 0.008839 seconds.\n",
      "You can set `force_row_wise=true` to remove the overhead.\n",
      "And if memory is not enough, you can set `force_col_wise=true`.\n",
      "[LightGBM] [Info] Total Bins 3196\n",
      "[LightGBM] [Info] Number of data points in the train set: 225000, number of used features: 34\n",
      "[LightGBM] [Info] [binary:BoostFromScore]: pavg=0.143720 -> initscore=-1.784730\n",
      "[LightGBM] [Info] Start training from score -1.784730\n"
     ]
    },
    {
     "data": {
      "text/html": [
       "<style>#sk-container-id-1 {color: black;}#sk-container-id-1 pre{padding: 0;}#sk-container-id-1 div.sk-toggleable {background-color: white;}#sk-container-id-1 label.sk-toggleable__label {cursor: pointer;display: block;width: 100%;margin-bottom: 0;padding: 0.3em;box-sizing: border-box;text-align: center;}#sk-container-id-1 label.sk-toggleable__label-arrow:before {content: \"▸\";float: left;margin-right: 0.25em;color: #696969;}#sk-container-id-1 label.sk-toggleable__label-arrow:hover:before {color: black;}#sk-container-id-1 div.sk-estimator:hover label.sk-toggleable__label-arrow:before {color: black;}#sk-container-id-1 div.sk-toggleable__content {max-height: 0;max-width: 0;overflow: hidden;text-align: left;background-color: #f0f8ff;}#sk-container-id-1 div.sk-toggleable__content pre {margin: 0.2em;color: black;border-radius: 0.25em;background-color: #f0f8ff;}#sk-container-id-1 input.sk-toggleable__control:checked~div.sk-toggleable__content {max-height: 200px;max-width: 100%;overflow: auto;}#sk-container-id-1 input.sk-toggleable__control:checked~label.sk-toggleable__label-arrow:before {content: \"▾\";}#sk-container-id-1 div.sk-estimator input.sk-toggleable__control:checked~label.sk-toggleable__label {background-color: #d4ebff;}#sk-container-id-1 div.sk-label input.sk-toggleable__control:checked~label.sk-toggleable__label {background-color: #d4ebff;}#sk-container-id-1 input.sk-hidden--visually {border: 0;clip: rect(1px 1px 1px 1px);clip: rect(1px, 1px, 1px, 1px);height: 1px;margin: -1px;overflow: hidden;padding: 0;position: absolute;width: 1px;}#sk-container-id-1 div.sk-estimator {font-family: monospace;background-color: #f0f8ff;border: 1px dotted black;border-radius: 0.25em;box-sizing: border-box;margin-bottom: 0.5em;}#sk-container-id-1 div.sk-estimator:hover {background-color: #d4ebff;}#sk-container-id-1 div.sk-parallel-item::after {content: \"\";width: 100%;border-bottom: 1px solid gray;flex-grow: 1;}#sk-container-id-1 div.sk-label:hover label.sk-toggleable__label {background-color: #d4ebff;}#sk-container-id-1 div.sk-serial::before {content: \"\";position: absolute;border-left: 1px solid gray;box-sizing: border-box;top: 0;bottom: 0;left: 50%;z-index: 0;}#sk-container-id-1 div.sk-serial {display: flex;flex-direction: column;align-items: center;background-color: white;padding-right: 0.2em;padding-left: 0.2em;position: relative;}#sk-container-id-1 div.sk-item {position: relative;z-index: 1;}#sk-container-id-1 div.sk-parallel {display: flex;align-items: stretch;justify-content: center;background-color: white;position: relative;}#sk-container-id-1 div.sk-item::before, #sk-container-id-1 div.sk-parallel-item::before {content: \"\";position: absolute;border-left: 1px solid gray;box-sizing: border-box;top: 0;bottom: 0;left: 50%;z-index: -1;}#sk-container-id-1 div.sk-parallel-item {display: flex;flex-direction: column;z-index: 1;position: relative;background-color: white;}#sk-container-id-1 div.sk-parallel-item:first-child::after {align-self: flex-end;width: 50%;}#sk-container-id-1 div.sk-parallel-item:last-child::after {align-self: flex-start;width: 50%;}#sk-container-id-1 div.sk-parallel-item:only-child::after {width: 0;}#sk-container-id-1 div.sk-dashed-wrapped {border: 1px dashed gray;margin: 0 0.4em 0.5em 0.4em;box-sizing: border-box;padding-bottom: 0.4em;background-color: white;}#sk-container-id-1 div.sk-label label {font-family: monospace;font-weight: bold;display: inline-block;line-height: 1.2em;}#sk-container-id-1 div.sk-label-container {text-align: center;}#sk-container-id-1 div.sk-container {/* jupyter's `normalize.less` sets `[hidden] { display: none; }` but bootstrap.min.css set `[hidden] { display: none !important; }` so we also need the `!important` here to be able to override the default hidden behavior on the sphinx rendered scikit-learn.org. See: https://github.com/scikit-learn/scikit-learn/issues/21755 */display: inline-block !important;position: relative;}#sk-container-id-1 div.sk-text-repr-fallback {display: none;}</style><div id=\"sk-container-id-1\" class=\"sk-top-container\"><div class=\"sk-text-repr-fallback\"><pre>VotingClassifier(estimators=[(&#x27;Cat&#x27;,\n",
       "                              &lt;catboost.core.CatBoostClassifier object at 0x0000021F58289BD0&gt;),\n",
       "                             (&#x27;lgb&#x27;,\n",
       "                              LGBMClassifier(bagging_fraction=0.9772086347434312,\n",
       "                                             bagging_freq=7,\n",
       "                                             boosting_type=&#x27;dart&#x27;,\n",
       "                                             feature_fraction=0.944735811995595,\n",
       "                                             gamma=5.757985966854834e-05,\n",
       "                                             learning_rate=0.07530361859735642,\n",
       "                                             max_depth=25, min_child_samples=1,\n",
       "                                             n_estimators=3500, num_leaves=247,\n",
       "                                             objective=&#x27;binary&#x27;))],\n",
       "                 voting=&#x27;soft&#x27;)</pre><b>In a Jupyter environment, please rerun this cell to show the HTML representation or trust the notebook. <br />On GitHub, the HTML representation is unable to render, please try loading this page with nbviewer.org.</b></div><div class=\"sk-container\" hidden><div class=\"sk-item sk-dashed-wrapped\"><div class=\"sk-label-container\"><div class=\"sk-label sk-toggleable\"><input class=\"sk-toggleable__control sk-hidden--visually\" id=\"sk-estimator-id-1\" type=\"checkbox\" ><label for=\"sk-estimator-id-1\" class=\"sk-toggleable__label sk-toggleable__label-arrow\">VotingClassifier</label><div class=\"sk-toggleable__content\"><pre>VotingClassifier(estimators=[(&#x27;Cat&#x27;,\n",
       "                              &lt;catboost.core.CatBoostClassifier object at 0x0000021F58289BD0&gt;),\n",
       "                             (&#x27;lgb&#x27;,\n",
       "                              LGBMClassifier(bagging_fraction=0.9772086347434312,\n",
       "                                             bagging_freq=7,\n",
       "                                             boosting_type=&#x27;dart&#x27;,\n",
       "                                             feature_fraction=0.944735811995595,\n",
       "                                             gamma=5.757985966854834e-05,\n",
       "                                             learning_rate=0.07530361859735642,\n",
       "                                             max_depth=25, min_child_samples=1,\n",
       "                                             n_estimators=3500, num_leaves=247,\n",
       "                                             objective=&#x27;binary&#x27;))],\n",
       "                 voting=&#x27;soft&#x27;)</pre></div></div></div><div class=\"sk-parallel\"><div class=\"sk-parallel-item\"><div class=\"sk-item\"><div class=\"sk-label-container\"><div class=\"sk-label sk-toggleable\"><label>Cat</label></div></div><div class=\"sk-serial\"><div class=\"sk-item\"><div class=\"sk-estimator sk-toggleable\"><input class=\"sk-toggleable__control sk-hidden--visually\" id=\"sk-estimator-id-2\" type=\"checkbox\" ><label for=\"sk-estimator-id-2\" class=\"sk-toggleable__label sk-toggleable__label-arrow\">CatBoostClassifier</label><div class=\"sk-toggleable__content\"><pre>&lt;catboost.core.CatBoostClassifier object at 0x0000021F58289BD0&gt;</pre></div></div></div></div></div></div><div class=\"sk-parallel-item\"><div class=\"sk-item\"><div class=\"sk-label-container\"><div class=\"sk-label sk-toggleable\"><label>lgb</label></div></div><div class=\"sk-serial\"><div class=\"sk-item\"><div class=\"sk-estimator sk-toggleable\"><input class=\"sk-toggleable__control sk-hidden--visually\" id=\"sk-estimator-id-3\" type=\"checkbox\" ><label for=\"sk-estimator-id-3\" class=\"sk-toggleable__label sk-toggleable__label-arrow\">LGBMClassifier</label><div class=\"sk-toggleable__content\"><pre>LGBMClassifier(bagging_fraction=0.9772086347434312, bagging_freq=7,\n",
       "               boosting_type=&#x27;dart&#x27;, feature_fraction=0.944735811995595,\n",
       "               gamma=5.757985966854834e-05, learning_rate=0.07530361859735642,\n",
       "               max_depth=25, min_child_samples=1, n_estimators=3500,\n",
       "               num_leaves=247, objective=&#x27;binary&#x27;)</pre></div></div></div></div></div></div></div></div></div></div>"
      ],
      "text/plain": [
       "VotingClassifier(estimators=[('Cat',\n",
       "                              <catboost.core.CatBoostClassifier object at 0x0000021F58289BD0>),\n",
       "                             ('lgb',\n",
       "                              LGBMClassifier(bagging_fraction=0.9772086347434312,\n",
       "                                             bagging_freq=7,\n",
       "                                             boosting_type='dart',\n",
       "                                             feature_fraction=0.944735811995595,\n",
       "                                             gamma=5.757985966854834e-05,\n",
       "                                             learning_rate=0.07530361859735642,\n",
       "                                             max_depth=25, min_child_samples=1,\n",
       "                                             n_estimators=3500, num_leaves=247,\n",
       "                                             objective='binary'))],\n",
       "                 voting='soft')"
      ]
     },
     "execution_count": 11,
     "metadata": {},
     "output_type": "execute_result"
    }
   ],
   "source": [
    "#обучение на всём датасете\n",
    "voit_model = VotingClassifier(estimators=[('Cat', cat_model), ('lgb', lgb_model)], voting='soft')\n",
    "voit_model.fit(new_x.values, new_y.values)"
   ]
  },
  {
   "cell_type": "code",
   "execution_count": 26,
   "id": "b48107f2-2b45-43c6-93aa-7eb845f1e1a4",
   "metadata": {},
   "outputs": [],
   "source": [
    "#сохранение прогноза модели\n",
    "test['value'] = voit_model.predict(test)\n",
    "test = test.rename_axis('id')\n",
    "test['value'].sort_index().to_csv(\"Ai_Tach_submit.csv\")"
   ]
  },
  {
   "cell_type": "code",
   "execution_count": 14,
   "id": "1b9c654b-8e59-4ee3-a27c-5bc1f23836fa",
   "metadata": {},
   "outputs": [
    {
     "data": {
      "text/plain": [
       "['final_voiting.pkl']"
      ]
     },
     "execution_count": 14,
     "metadata": {},
     "output_type": "execute_result"
    }
   ],
   "source": [
    "#сохранение модели в pkl файл\n",
    "joblib.dump(voit_model, 'final_voiting.pkl')"
   ]
  }
 ],
 "metadata": {
  "kernelspec": {
   "display_name": "Python 3 (ipykernel)",
   "language": "python",
   "name": "python3"
  },
  "language_info": {
   "codemirror_mode": {
    "name": "ipython",
    "version": 3
   },
   "file_extension": ".py",
   "mimetype": "text/x-python",
   "name": "python",
   "nbconvert_exporter": "python",
   "pygments_lexer": "ipython3",
   "version": "3.10.2"
  }
 },
 "nbformat": 4,
 "nbformat_minor": 5
}
